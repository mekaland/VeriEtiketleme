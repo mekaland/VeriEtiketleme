{
  "nbformat": 4,
  "nbformat_minor": 0,
  "metadata": {
    "colab": {
      "provenance": []
    },
    "kernelspec": {
      "name": "python3",
      "display_name": "Python 3"
    },
    "language_info": {
      "name": "python"
    }
  },
  "cells": [
    {
      "cell_type": "code",
      "execution_count": null,
      "metadata": {
        "colab": {
          "base_uri": "https://localhost:8080/"
        },
        "id": "IPy1QiKxGYkz",
        "outputId": "49b25132-8cc7-4b47-b569-231918487b4c"
      },
      "outputs": [
        {
          "output_type": "stream",
          "name": "stdout",
          "text": [
            "İşlenen resim sayısı: 100\n"
          ]
        }
      ],
      "source": [
        "#!unzip \"/content/drive/MyDrive/Cinsiyet.zip\" -d \"/content/drive/MyDrive/Cinsiyet\"\n",
        "\n",
        "import cv2\n",
        "import numpy as np\n",
        "import os\n",
        "import matplotlib.pyplot as plt\n",
        "\n",
        "# Veri listeleri ve konum\n",
        "veriler = []\n",
        "etiket = []\n",
        "konum = \"/content/drive/MyDrive/Cinsiyet/Cinsiyet\"\n",
        "\n",
        "# İşlenecek maksimum resim sayısı\n",
        "maks_resim_sayisi = 100\n",
        "sayaç = 0  # İşlenen resim sayacını takip eder\n",
        "\n",
        "# Verileri yükle ve işleme\n",
        "for sınıf in os.listdir(konum):\n",
        "    sınıf_yolu = os.path.join(konum, sınıf)\n",
        "    if not os.path.isdir(sınıf_yolu):\n",
        "        continue\n",
        "    for dizin in os.listdir(sınıf_yolu):\n",
        "        if sayaç >= maks_resim_sayisi:  # Belirlenen sınırı aşma\n",
        "            break\n",
        "        resim_yolu = os.path.join(sınıf_yolu, dizin)\n",
        "        if os.path.isfile(resim_yolu):\n",
        "            resim = cv2.imread(resim_yolu)\n",
        "            if resim is None:\n",
        "                continue  # Geçersiz resimleri atla\n",
        "            resim = cv2.resize(resim, (50, 50))\n",
        "            resim = resim.astype(\"float32\") / 255  # Normalleştir\n",
        "            veriler.append(resim)\n",
        "            if sınıf == \"Erkek\":\n",
        "                etiket.append(0)\n",
        "            else:\n",
        "                etiket.append(1)\n",
        "            sayaç += 1\n",
        "\n",
        "# Verileri numpy array'e çevir\n",
        "veriler = np.array(veriler)\n",
        "etiket = np.array(etiket)\n",
        "\n",
        "# Kaydet\n",
        "np.savez(\"/content/drive/MyDrive/Classroom/Colab Notebooks/Veriler.npz\", veriler)\n",
        "np.savez(\"/content/drive/MyDrive/Classroom/Colab Notebooks/Etiketler.npz\", etiket)\n",
        "\n",
        "print(f\"İşlenen resim sayısı: {len(veriler)}\")\n",
        "\n",
        "\n",
        "\n"
      ]
    },
    {
      "cell_type": "code",
      "source": [
        "from keras.models import load_model\n",
        "import matplotlib.pyplot as plt\n",
        "import cv2\n",
        "import numpy as np\n",
        "\n",
        "# Modeli yükleyin\n",
        "model = load_model(\"/content/drive/MyDrive/Model/Modelim.h5\")\n",
        "\n",
        "# Görüntüyü okuyun ve ön işleme yapın\n",
        "resim_yolu = \"/content/drive/MyDrive/Cinsiyet/Cinsiyet/Erkek/090544.jpg.jpg\"\n",
        "resim = cv2.imread(resim_yolu)\n",
        "if resim is None:\n",
        "    raise FileNotFoundError(f\"Resim bulunamadı: {resim_yolu}\")\n",
        "\n",
        "# Görüntüyü yeniden boyutlandır ve normalize et\n",
        "resim = cv2.resize(resim, (52, 52))\n",
        "resim = resim.astype(\"float32\") / 255  # Normalize et (0-1 aralığında)\n",
        "resim = np.expand_dims(resim, axis=0)  # Batch boyutunu ekle\n",
        "\n",
        "# Modelden tahmin al\n",
        "tahmin = model.predict(resim)\n",
        "tahmin_sınıf = np.argmax(tahmin)\n",
        "\n",
        "# Sonucu yazdır\n",
        "etiketler = [\"Erkek\", \"Kadın\"]  # Modelin sınıflarına uygun etiketler\n",
        "tahmin_etiketi = etiketler[tahmin_sınıf]\n",
        "\n",
        "# Görüntüyü göster\n",
        "plt.imshow(resim[0])\n",
        "plt.title(f\"Tahmin Sınıfı: {tahmin_sınıf} ({tahmin_etiketi})\")\n",
        "plt.axis(\"off\")\n",
        "plt.show()\n",
        "\n",
        "print(model.input_shape)\n",
        "\n"
      ],
      "metadata": {
        "id": "0NoCJnhmM4oA",
        "colab": {
          "base_uri": "https://localhost:8080/",
          "height": 297
        },
        "outputId": "7f63f00a-2e06-46a2-be00-5ab65694d658",
        "collapsed": true
      },
      "execution_count": 9,
      "outputs": [
        {
          "output_type": "stream",
          "name": "stderr",
          "text": [
            "WARNING:absl:Compiled the loaded model, but the compiled metrics have yet to be built. `model.compile_metrics` will be empty until you train or evaluate the model.\n"
          ]
        },
        {
          "output_type": "stream",
          "name": "stdout",
          "text": [
            "\u001b[1m1/1\u001b[0m \u001b[32m━━━━━━━━━━━━━━━━━━━━\u001b[0m\u001b[37m\u001b[0m \u001b[1m0s\u001b[0m 411ms/step\n",
            "Tahmin çıktısı: [[3.1486128e-02 2.0445177e-01 2.1151843e-02 5.8038295e-03 2.0714597e-04\n",
            "  2.5470159e-03 6.1301505e-03 2.8202980e-04 7.2351789e-01 4.4221873e-03]]\n",
            "Tahmin sınıfı: 8\n"
          ]
        },
        {
          "output_type": "error",
          "ename": "IndexError",
          "evalue": "list index out of range",
          "traceback": [
            "\u001b[0;31m---------------------------------------------------------------------------\u001b[0m",
            "\u001b[0;31mIndexError\u001b[0m                                Traceback (most recent call last)",
            "\u001b[0;32m<ipython-input-9-3e230f7f3cae>\u001b[0m in \u001b[0;36m<cell line: 28>\u001b[0;34m()\u001b[0m\n\u001b[1;32m     26\u001b[0m \u001b[0;31m# Sonucu yazdır\u001b[0m\u001b[0;34m\u001b[0m\u001b[0;34m\u001b[0m\u001b[0m\n\u001b[1;32m     27\u001b[0m \u001b[0metiketler\u001b[0m \u001b[0;34m=\u001b[0m \u001b[0;34m[\u001b[0m\u001b[0;34m\"Erkek\"\u001b[0m\u001b[0;34m,\u001b[0m \u001b[0;34m\"Kadın\"\u001b[0m\u001b[0;34m]\u001b[0m  \u001b[0;31m# Modelin sınıflarına uygun etiketler\u001b[0m\u001b[0;34m\u001b[0m\u001b[0;34m\u001b[0m\u001b[0m\n\u001b[0;32m---> 28\u001b[0;31m \u001b[0mtahmin_etiketi\u001b[0m \u001b[0;34m=\u001b[0m \u001b[0metiketler\u001b[0m\u001b[0;34m[\u001b[0m\u001b[0mtahmin_sınıf\u001b[0m\u001b[0;34m]\u001b[0m\u001b[0;34m\u001b[0m\u001b[0;34m\u001b[0m\u001b[0m\n\u001b[0m\u001b[1;32m     29\u001b[0m \u001b[0;34m\u001b[0m\u001b[0m\n\u001b[1;32m     30\u001b[0m \u001b[0;31m# Görüntüyü göster\u001b[0m\u001b[0;34m\u001b[0m\u001b[0;34m\u001b[0m\u001b[0m\n",
            "\u001b[0;31mIndexError\u001b[0m: list index out of range"
          ]
        }
      ]
    },
    {
      "cell_type": "code",
      "source": [],
      "metadata": {
        "id": "JEsXSlLRKame"
      },
      "execution_count": null,
      "outputs": []
    }
  ]
}